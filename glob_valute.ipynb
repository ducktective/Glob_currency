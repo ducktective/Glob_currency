{
 "cells": [
  {
   "cell_type": "code",
   "execution_count": 1,
   "metadata": {},
   "outputs": [],
   "source": [
    "import urllib\n",
    "import json\n",
    "import pandas as pd\n",
    "import vertica_python"
   ]
  },
  {
   "cell_type": "code",
   "execution_count": 2,
   "metadata": {},
   "outputs": [],
   "source": [
    "#Забираем файл и преобразовываем его в json.\n",
    "url = 'https://www.cbr-xml-daily.ru/daily_json.js'\n",
    "response = urllib.request.urlopen(url)\n",
    "data = json.loads(response.read())"
   ]
  },
  {
   "cell_type": "code",
   "execution_count": 17,
   "metadata": {},
   "outputs": [
    {
     "name": "stdout",
     "output_type": "stream",
     "text": [
      "<class 'str'>\n",
      "<class 'str'>\n"
     ]
    }
   ],
   "source": [
    "valute = ('USD', 'EUR', 'CNY', 'INR', 'JPY')\n",
    "atribute = ('ID','NumCode', 'CharCode', 'Nominal', 'Name', 'Value', 'Previous')\n",
    "delimiter = '\\x1F'\n",
    "line_terminator = '\\x1E'"
   ]
  },
  {
   "cell_type": "code",
   "execution_count": 4,
   "metadata": {},
   "outputs": [],
   "source": [
    "table_header = 'valute.valute'\n",
    "rej_table = 'valute.rej_table_valute'"
   ]
  },
  {
   "cell_type": "code",
   "execution_count": 5,
   "metadata": {},
   "outputs": [],
   "source": [
    "connection_info = {'host': 'localhost',\n",
    "             'port': 5433,\n",
    "             'user': 'dbadmin',\n",
    "             'password': '',\n",
    "             # default throw error on invalid UTF-8 results\n",
    "             'unicode_error': 'strict',\n",
    "             # SSL is disabled by default\n",
    "             'ssl': False,\n",
    "             # autocommit is off by default\n",
    "             'autocommit': True,\n",
    "             # using server-side prepared statements is disabled by default\n",
    "             'use_prepared_statements': False,\n",
    "             # connection timeout is not enabled by default\n",
    "             # 5 seconds timeout for a socket operation (Establishing a TCP connection or read/write operation)\n",
    "             'connection_timeout': 5}\n"
   ]
  },
  {
   "cell_type": "code",
   "execution_count": 6,
   "metadata": {},
   "outputs": [],
   "source": [
    "#This code only for experiment ma'faka\n",
    "#with open('valute.csv', 'w', newline='', encoding='utf8') as csvfile:\n",
    "    #data_writer = csv.writer(csvfile, delimiter = '\\x1F', lineterminator = '\\x1E')\n",
    "    #for i in valute:\n",
    "        #for j in atribute:\n",
    "            #a = str(data['Valute'][i][j])\n",
    "            #data_writer.writerow([a]) \n",
    "            #print(type(a), a)"
   ]
  },
  {
   "cell_type": "code",
   "execution_count": 7,
   "metadata": {},
   "outputs": [],
   "source": [
    "df = pd.DataFrame(data['Valute'])\n",
    "df = df.T"
   ]
  },
  {
   "cell_type": "code",
   "execution_count": 27,
   "metadata": {},
   "outputs": [],
   "source": [
    "df['Nominal'] = df['Nominal'].astype(int)\n",
    "df['Value'] = df['Value'].astype(float)\n",
    "df['Previous'] = df['Previous'].astype(float)"
   ]
  },
  {
   "cell_type": "code",
   "execution_count": 28,
   "metadata": {},
   "outputs": [],
   "source": [
    "df.to_csv('valute.csv', index=False, sep = delimiter, line_terminator = line_terminator,\n",
    "            header=True,\n",
    "            encoding='utf-8',\n",
    "            na_rep=' ')"
   ]
  },
  {
   "cell_type": "code",
   "execution_count": 32,
   "metadata": {},
   "outputs": [
    {
     "name": "stdout",
     "output_type": "stream",
     "text": [
      "[34]\n"
     ]
    }
   ],
   "source": [
    "with vertica_python.connect(**connection_info) as connection:\n",
    "        copy_req = \"\"\"COPY {table_header}\n",
    "                FROM STDIN PARSER\n",
    "                fcsvparser(\n",
    "                    type='traditional',\n",
    "                    delimiter='{delimiter}',\n",
    "                    header='true',\n",
    "                    record_terminator='{line_terminator}',\n",
    "                    reject_on_materialized_type_error = 'true'\n",
    "                ) REJECTED DATA AS TABLE {rej_table};\n",
    "            \"\"\".format(\n",
    "            table_header=table_header,\n",
    "            delimiter=delimiter,\n",
    "            line_terminator=line_terminator,\n",
    "            rej_table=rej_table\n",
    "        )\n",
    "        cur = connection.cursor()\n",
    "        cur.execute(\"START TRANSACTION;\")\n",
    "        cur.execute(\"SET SESSION AUTOCOMMIT TO OFF;\")\n",
    "        with open('C:\\\\Users\\\\adyan.beltikov\\\\Desktop\\\\programs\\\\Glob_currency\\\\valute.csv', \"rb\") as fs:\n",
    "            try:\n",
    "                cur.copy(copy_req, fs, buffer_size=65536)\n",
    "                cur.execute('select get_num_rejected_rows();')\n",
    "                after = cur.fetchone()\n",
    "                print(after)\n",
    "                cur.execute(\"COMMIT;\")\n",
    "            except Exception as ex:\n",
    "                print(ex)"
   ]
  }
 ],
 "metadata": {
  "kernelspec": {
   "display_name": "Python 3",
   "language": "python",
   "name": "python3"
  },
  "language_info": {
   "codemirror_mode": {
    "name": "ipython",
    "version": 3
   },
   "file_extension": ".py",
   "mimetype": "text/x-python",
   "name": "python",
   "nbconvert_exporter": "python",
   "pygments_lexer": "ipython3",
   "version": "3.8.3"
  }
 },
 "nbformat": 4,
 "nbformat_minor": 4
}
